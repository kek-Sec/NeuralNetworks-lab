{
 "cells": [
  {
   "cell_type": "code",
   "execution_count": 5,
   "metadata": {},
   "outputs": [
    {
     "name": "stdout",
     "output_type": "stream",
     "text": [
      "Iris Data Loaded\n",
      "Sample pattern: [5.6 2.5 3.9 1.1]\n",
      "Class of the above pattern: Iris-versicolor\n"
     ]
    }
   ],
   "source": [
    "import numpy as np\n",
    "import math\n",
    "import random\n",
    "\n",
    "patterns = []\n",
    "classes = []\n",
    "\n",
    "filename = 'iris.txt'\n",
    "file = open(filename,'r')\n",
    "\n",
    "for line in file.readlines():\n",
    "    row = line.strip().split(',')\n",
    "    patterns.append(row[0:4])\n",
    "    classes.append(row[4])\n",
    "print(\"Iris Data Loaded\")\n",
    "file.close\n",
    "\n",
    "patterns = np.asarray(patterns,dtype=np.float32)\n",
    "\n",
    "sample_no = np.random.randint(0,len(patterns))\n",
    "\n",
    "print(\"Sample pattern: \" + str(patterns[int(sample_no)]))\n",
    "print(\"Class of the above pattern: \" + str(classes[int(sample_no)]))"
   ]
  },
  {
   "cell_type": "markdown",
   "metadata": {},
   "source": [
    "## Map units"
   ]
  },
  {
   "cell_type": "code",
   "execution_count": 6,
   "metadata": {},
   "outputs": [
    {
     "name": "stdout",
     "output_type": "stream",
     "text": [
      "Heuristically computed appropriate no. of map units: 304\n"
     ]
    }
   ],
   "source": [
    "def mapunits(input_len,size='small'):\n",
    "    \n",
    "    heuristic_map_units = 5*input_len**0.54321\n",
    "     \n",
    "    if size == 'big':\n",
    "        heuristic_map_units = 4*(heuristic_map_units)\n",
    "    else:\n",
    "        heuristic_map_units = 0.25*(heuristic_map_units)\n",
    "        \n",
    "    return heuristic_map_units\n",
    "        \n",
    "        \n",
    "map_units = mapunits(len(patterns),size='big')\n",
    "print(\"Heuristically computed appropriate no. of map units: \"+str(int(map_units)))"
   ]
  },
  {
   "cell_type": "code",
   "execution_count": 7,
   "metadata": {},
   "outputs": [
    {
     "name": "stdout",
     "output_type": "stream",
     "text": [
      "Lower error found: 0.44976956461179335 at epoch: 0\n",
      "\tLearning rate: 0.1\n",
      "\tNeighbourhood radius: 4.5\n",
      "Lower error found: 0.3894140979598944 at epoch: 9\n",
      "\tLearning rate: 0.09820000000000001\n",
      "\tNeighbourhood radius: 4.419724645612353\n",
      "Lower error found: 0.29180409125506185 at epoch: 11\n",
      "\tLearning rate: 0.0978\n",
      "\tNeighbourhood radius: 4.402081057730445\n",
      "Lower error found: 0.210969397562404 at epoch: 53\n",
      "\tLearning rate: 0.08940000000000001\n",
      "\tNeighbourhood radius: 4.047410916341658\n",
      "Lower error found: 0.20335135142470076 at epoch: 97\n",
      "\tLearning rate: 0.0806\n",
      "\tNeighbourhood radius: 3.706460569208596\n",
      "Lower error found: 0.16669797600567662 at epoch: 134\n",
      "\tLearning rate: 0.0732\n",
      "\tNeighbourhood radius: 3.442085014962888\n",
      "Lower error found: 0.14071475446565707 at epoch: 157\n",
      "\tLearning rate: 0.0686\n",
      "\tNeighbourhood radius: 3.2873356267174123\n",
      "Lower error found: 0.1404639944393536 at epoch: 204\n",
      "\tLearning rate: 0.05920000000000001\n",
      "\tNeighbourhood radius: 2.9924049547008087\n",
      "Lower error found: 0.11259418027595215 at epoch: 208\n",
      "\tLearning rate: 0.05840000000000001\n",
      "\tNeighbourhood radius: 2.968561217179751\n",
      "Lower error found: 0.10480731642851139 at epoch: 210\n",
      "\tLearning rate: 0.05800000000000001\n",
      "\tNeighbourhood radius: 2.9567106891677555\n",
      "Lower error found: 0.09304342217203491 at epoch: 237\n",
      "\tLearning rate: 0.05260000000000001\n",
      "\tNeighbourhood radius: 2.8012826365545904\n",
      "Lower error found: 0.06999081467401919 at epoch: 243\n",
      "\tLearning rate: 0.0514\n",
      "\tNeighbourhood radius: 2.767868132910879\n",
      "Lower error found: 0.05325067024774476 at epoch: 322\n",
      "\tLearning rate: 0.0356\n",
      "\tNeighbourhood radius: 2.3633436018034626\n",
      "Lower error found: 0.04202022615828063 at epoch: 359\n",
      "\tLearning rate: 0.028200000000000003\n",
      "\tNeighbourhood radius: 2.19477030581579\n",
      "Lower error found: 0.01784064711780042 at epoch: 385\n",
      "\tLearning rate: 0.023\n",
      "\tNeighbourhood radius: 2.0835588074005265\n",
      "Lower error found: 0.015892574888487204 at epoch: 387\n",
      "\tLearning rate: 0.0226\n",
      "\tNeighbourhood radius: 2.075241218438963\n",
      "Lower error found: 0.006836012433531942 at epoch: 413\n",
      "\tLearning rate: 0.017400000000000006\n",
      "\tNeighbourhood radius: 1.9700863943263185\n",
      "Lower error found: 0.00524673819404856 at epoch: 464\n",
      "\tLearning rate: 0.0071999999999999955\n",
      "\tNeighbourhood radius: 1.779046233417449\n",
      "Lower error found: 0.004398695267182868 at epoch: 466\n",
      "\tLearning rate: 0.006799999999999995\n",
      "\tNeighbourhood radius: 1.771944261896115\n",
      "Lower error found: 0.003443586829873609 at epoch: 471\n",
      "\tLearning rate: 0.005800000000000006\n",
      "\tNeighbourhood radius: 1.7543131219030412\n",
      "Lower error found: 0.0032866903343674245 at epoch: 483\n",
      "\tLearning rate: 0.0034000000000000033\n",
      "\tNeighbourhood radius: 1.7127108313547241\n",
      "Lower error found: 0.000971160408797602 at epoch: 488\n",
      "\tLearning rate: 0.0024000000000000024\n",
      "\tNeighbourhood radius: 1.695669073843144\n"
     ]
    }
   ],
   "source": [
    "import matplotlib.pyplot as plt\n",
    "%matplotlib inline\n",
    "\n",
    "def Eucli_dists(MAP,x):\n",
    "    x = x.reshape((1,1,-1))\n",
    "    #print(x)\n",
    "    Eucli_MAP = MAP - x\n",
    "    Eucli_MAP = Eucli_MAP**2\n",
    "    Eucli_MAP = np.sqrt(np.sum(Eucli_MAP,2))\n",
    "    return Eucli_MAP\n",
    "\n",
    "input_dimensions = 4\n",
    "\n",
    "map_width = 9\n",
    "map_height = 5\n",
    "MAP = np.random.uniform(size=(map_height,map_width,input_dimensions))\n",
    "prev_MAP = np.zeros((map_height,map_width,input_dimensions))\n",
    "\n",
    "radius0 = max(map_width,map_height)/2\n",
    "learning_rate0 = 0.1\n",
    "\n",
    "coordinate_map = np.zeros([map_height,map_width,2],dtype=np.int32)\n",
    "\n",
    "for i in range(0,map_height):\n",
    "    for j in range(0,map_width):\n",
    "        coordinate_map[i][j] = [i,j]\n",
    "\n",
    "epochs = 500\n",
    "radius=radius0\n",
    "learning_rate = learning_rate0\n",
    "max_iterations = len(patterns)+1\n",
    "too_many_iterations = 10*max_iterations\n",
    "\n",
    "convergence = [1]\n",
    "\n",
    "timestep=1\n",
    "e=0.001 \n",
    "flag=0\n",
    "\n",
    "epoch=0\n",
    "while epoch<epochs:\n",
    "    \n",
    "    shuffle = np.random.randint(len(patterns), size=len(patterns))\n",
    "    for i in range(len(patterns)):\n",
    "        \n",
    "        # difference between prev_MAP and MAP\n",
    "        J = np.linalg.norm(MAP - prev_MAP)\n",
    "        #print(J)\n",
    "        # J = || euclidean distance between previous MAP and current MAP  ||\n",
    "\n",
    "        if  J <= e: #if converged (convergence criteria)\n",
    "            flag=1\n",
    "            break\n",
    "            \n",
    "        else:\n",
    "            \n",
    "            #if timestep == max_iterations and timestep != too_many_iterations:\n",
    "            #    epochs += 1\n",
    "            #    max_iterations = epochs*len(patterns)\n",
    "            \n",
    "            pattern = patterns[shuffle[i]]\n",
    "            pattern_ary = np.tile(pattern, (map_height, map_width, 1))\n",
    "            Eucli_MAP = np.linalg.norm(pattern_ary - MAP, axis=2)\n",
    "            \n",
    "            # Get the best matching unit(BMU) which is the one with the smallest Euclidean distance\n",
    "            BMU = np.unravel_index(np.argmin(Eucli_MAP, axis=None), Eucli_MAP.shape)\n",
    "            #BMU[1] = np.argmin(Eucli_MAP, 1)[int(BMU[0])]\n",
    "    \n",
    "            #Eucli_from_BMU = Eucli_dists(coordinate_map,BMU)  \n",
    "        \n",
    "            prev_MAP = np.copy(MAP)\n",
    "             \n",
    "            for i in range(map_height):\n",
    "                for j in range(map_width):\n",
    "                    distance = np.linalg.norm([i - BMU[0], j - BMU[1]])\n",
    "                    if distance <= radius:\n",
    "                        #theta = math.exp(-(distance**2)/(2*(radius**2)))\n",
    "                        MAP[i][j] = MAP[i][j] + learning_rate*(pattern-MAP[i][j])\n",
    "            \n",
    "            learning_rate = learning_rate0*(1-(epoch/epochs))\n",
    "            #time_constant = max_iterations/math.log(radius) \n",
    "            radius = radius0*math.exp(-epoch/epochs)\n",
    "            #print([learning_rate, radius])\n",
    "            \n",
    "            timestep+=1\n",
    "    \n",
    "    if J < min(convergence):\n",
    "        print('Lower error found: %s' %str(J) + ' at epoch: %s' % str(epoch))\n",
    "        print('\\tLearning rate: ' + str(learning_rate))\n",
    "        print('\\tNeighbourhood radius: ' + str(radius))\n",
    "        MAP_final = MAP\n",
    "    convergence.append(J)\n",
    "    \n",
    "    if flag==1:\n",
    "        break\n",
    "    epoch+=1"
   ]
  },
  {
   "cell_type": "code",
   "execution_count": 8,
   "metadata": {},
   "outputs": [
    {
     "data": {
      "image/png": "[encoded data removed]",
      "text/plain": [
       "<Figure size 432x288 with 1 Axes>"
      ]
     },
     "metadata": {
      "needs_background": "light"
     },
     "output_type": "display_data"
    },
    {
     "name": "stdout",
     "output_type": "stream",
     "text": [
      "Number of timesteps: 73278\n",
      "Final error: 0.000971160408797602\n"
     ]
    }
   ],
   "source": [
    "# Show a plot of the error at each epoch to show convergence, but this is guaranteed in SOM\n",
    "# due to the learning rate and neighbourhood decay\n",
    "plt.plot(convergence)\n",
    "plt.ylabel('error')\n",
    "plt.xlabel('epoch')\n",
    "plt.grid(True)\n",
    "plt.yscale('log')\n",
    "plt.show()\n",
    "print('Number of timesteps: ' + str(timestep))\n",
    "print('Final error: ' + str(J))"
   ]
  },
  {
   "cell_type": "code",
   "execution_count": 10,
   "metadata": {},
   "outputs": [
    {
     "name": "stdout",
     "output_type": "stream",
     "text": [
      "Red = Iris-Setosa\n",
      "Blue = Iris-Virginica\n",
      "Green = Iris-Versicolor\n"
     ]
    },
    {
     "data": {
      "text/plain": [
       "<matplotlib.image.AxesImage at 0x2042380f310>"
      ]
     },
     "execution_count": 10,
     "metadata": {},
     "output_type": "execute_result"
    },
    {
     "data": {
      "image/png": "[encoded data removed]",
      "text/plain": [
       "<Figure size 432x288 with 1 Axes>"
      ]
     },
     "metadata": {
      "needs_background": "light"
     },
     "output_type": "display_data"
    }
   ],
   "source": [
    "from PIL import Image\n",
    "\n",
    "\n",
    "BMU = np.zeros([2],dtype=np.int32)\n",
    "result_map = np.zeros([map_height,map_width,3],dtype=np.float32)\n",
    "\n",
    "i=0\n",
    "for pattern in patterns:\n",
    "    \n",
    "    pattern_ary = np.tile(pattern, (map_height, map_width, 1))\n",
    "    Eucli_MAP = np.linalg.norm(pattern_ary - MAP_final, axis=2)\n",
    "\n",
    "    # Get the best matching unit(BMU) which is the one with the smallest Euclidean distance\n",
    "    BMU = np.unravel_index(np.argmin(Eucli_MAP, axis=None), Eucli_MAP.shape)\n",
    "    \n",
    "    x = BMU[0]\n",
    "    y = BMU[1]\n",
    "    \n",
    "    if classes[i] == 'Iris-setosa':\n",
    "        if result_map[x][y][0] <= 0.5:\n",
    "            result_map[x][y] += np.asarray([0.5,0,0])\n",
    "    elif classes[i] == 'Iris-virginica':\n",
    "        if result_map[x][y][1] <= 0.5:\n",
    "            result_map[x][y] += np.asarray([0,0.5,0])\n",
    "    elif classes[i] == 'Iris-versicolor':\n",
    "        if result_map[x][y][2] <= 0.5:\n",
    "            result_map[x][y] += np.asarray([0,0,0.5])\n",
    "    i+=1\n",
    "result_map = np.flip(result_map,0)\n",
    "    \n",
    "#print result_map\n",
    "\n",
    "print(\"Red = Iris-Setosa\")\n",
    "print(\"Blue = Iris-Virginica\")\n",
    "print(\"Green = Iris-Versicolor\")\n",
    "\n",
    "plt.imshow(result_map, interpolation='nearest')"
   ]
  },
  {
   "cell_type": "code",
   "execution_count": null,
   "metadata": {},
   "outputs": [],
   "source": []
  }
 ],
 "metadata": {
  "kernelspec": {
   "display_name": "Python 3",
   "language": "python",
   "name": "python3"
  },
  "language_info": {
   "codemirror_mode": {
    "name": "ipython",
    "version": 3
   },
   "file_extension": ".py",
   "mimetype": "text/x-python",
   "name": "python",
   "nbconvert_exporter": "python",
   "pygments_lexer": "ipython3",
   "version": "3.8.5"
  }
 },
 "nbformat": 4,
 "nbformat_minor": 4
}
