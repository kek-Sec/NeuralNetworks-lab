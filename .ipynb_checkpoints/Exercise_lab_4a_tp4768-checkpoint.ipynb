{
 "cells": [
  {
   "cell_type": "code",
   "execution_count": 1,
   "id": "improved-fever",
   "metadata": {},
   "outputs": [],
   "source": [
    "import neurolab as nl\n",
    "import matplotlib.pyplot as plt\n",
    "import numpy as np"
   ]
  },
  {
   "cell_type": "markdown",
   "id": "mineral-quebec",
   "metadata": {},
   "source": [
    "## XOR perceptron"
   ]
  },
  {
   "cell_type": "code",
   "execution_count": 58,
   "id": "sophisticated-breeding",
   "metadata": {},
   "outputs": [],
   "source": [
    "X = np.array([[0, 0], [0, 1], [1, 0], [1, 1]]);\n",
    "T = np.array([[0,0], [1,1], [1,1], [0,0]]);"
   ]
  },
  {
   "cell_type": "code",
   "execution_count": 66,
   "id": "latter-compilation",
   "metadata": {
    "scrolled": false
   },
   "outputs": [
    {
     "name": "stdout",
     "output_type": "stream",
     "text": [
      "Epoch: 1; Error: 2.0;\n",
      "Epoch: 2; Error: 2.0;\n",
      "Epoch: 3; Error: 2.0;\n",
      "Epoch: 4; Error: 2.0;\n",
      "Epoch: 5; Error: 2.0;\n",
      "Epoch: 6; Error: 2.0;\n",
      "Epoch: 7; Error: 2.0;\n",
      "Epoch: 8; Error: 2.0;\n",
      "Epoch: 9; Error: 2.0;\n",
      "Epoch: 10; Error: 2.0;\n",
      "Epoch: 11; Error: 2.0;\n",
      "Epoch: 12; Error: 2.0;\n",
      "Epoch: 13; Error: 2.0;\n",
      "Epoch: 14; Error: 2.0;\n",
      "Epoch: 15; Error: 2.0;\n",
      "Epoch: 16; Error: 2.0;\n",
      "Epoch: 17; Error: 2.0;\n",
      "Epoch: 18; Error: 2.0;\n",
      "Epoch: 19; Error: 2.0;\n",
      "Epoch: 20; Error: 2.0;\n",
      "Epoch: 21; Error: 2.0;\n",
      "Epoch: 22; Error: 2.0;\n",
      "Epoch: 23; Error: 2.0;\n",
      "Epoch: 24; Error: 2.0;\n",
      "Epoch: 25; Error: 2.0;\n",
      "Epoch: 26; Error: 2.0;\n",
      "Epoch: 27; Error: 2.0;\n",
      "Epoch: 28; Error: 2.0;\n",
      "Epoch: 29; Error: 2.0;\n",
      "Epoch: 30; Error: 2.0;\n",
      "Epoch: 31; Error: 2.0;\n",
      "Epoch: 32; Error: 2.0;\n",
      "Epoch: 33; Error: 2.0;\n",
      "Epoch: 34; Error: 2.0;\n",
      "Epoch: 35; Error: 2.0;\n",
      "Epoch: 36; Error: 2.0;\n",
      "Epoch: 37; Error: 2.0;\n",
      "Epoch: 38; Error: 2.0;\n",
      "Epoch: 39; Error: 2.0;\n",
      "Epoch: 40; Error: 2.0;\n",
      "Epoch: 41; Error: 2.0;\n",
      "Epoch: 42; Error: 2.0;\n",
      "Epoch: 43; Error: 2.0;\n",
      "Epoch: 44; Error: 2.0;\n",
      "Epoch: 45; Error: 2.0;\n",
      "Epoch: 46; Error: 2.0;\n",
      "Epoch: 47; Error: 2.0;\n",
      "Epoch: 48; Error: 2.0;\n",
      "Epoch: 49; Error: 2.0;\n",
      "Epoch: 50; Error: 2.0;\n",
      "The maximum number of train epochs is reached\n"
     ]
    },
    {
     "data": {
      "image/png": "[encoded data removed]",
      "text/plain": [
       "<Figure size 432x288 with 1 Axes>"
      ]
     },
     "metadata": {
      "needs_background": "light"
     },
     "output_type": "display_data"
    },
    {
     "data": {
      "text/plain": [
       "array([[1., 1.],\n",
       "       [1., 1.],\n",
       "       [0., 0.],\n",
       "       [0., 0.]])"
      ]
     },
     "execution_count": 66,
     "metadata": {},
     "output_type": "execute_result"
    }
   ],
   "source": [
    "\n",
    "#X = X.T #we transpose the input data\n",
    "\n",
    "net = nl.net.newp(nl.tool.minmax(X), 2)\n",
    "error = net.train(X, T, epochs=50, show=1, lr=0.05)\n",
    "\n",
    "# Plot results\n",
    "plt.plot(error)\n",
    "plt.xlabel('Epoch number')\n",
    "plt.ylabel('Train error')\n",
    "plt.grid()\n",
    "plt.show()\n",
    "net.sim(X)"
   ]
  },
  {
   "cell_type": "markdown",
   "id": "continuous-wisdom",
   "metadata": {},
   "source": [
    "## feed forward network"
   ]
  },
  {
   "cell_type": "code",
   "execution_count": 89,
   "id": "continuous-philip",
   "metadata": {},
   "outputs": [
    {
     "name": "stdout",
     "output_type": "stream",
     "text": [
      "Epoch: 12; Error: 0.4469286999759464;\n",
      "Epoch: 24; Error: 0.28090394226729654;\n",
      "Epoch: 36; Error: 0.2513807026504909;\n",
      "Epoch: 48; Error: 0.2500553902895665;\n",
      "The maximum number of train epochs is reached\n"
     ]
    },
    {
     "data": {
      "image/png": "[encoded data removed]",
      "text/plain": [
       "<Figure size 432x288 with 1 Axes>"
      ]
     },
     "metadata": {
      "needs_background": "light"
     },
     "output_type": "display_data"
    }
   ],
   "source": [
    "X = [[0, 0], [0, 1], [1, 0], [1, 1]]\n",
    "T = [[0], [1], [1], [0]]\n",
    "\n",
    "\n",
    "net = nl.net.newff(nl.tool.minmax(X),[2,1])\n",
    "net.layers[-1].transf = nl.trans.LogSig()\n",
    "net.layers[0].transf = nl.trans.LogSig()\n",
    "net.layers[1].transf = nl.trans.LogSig()\n",
    "\n",
    "#train the network\n",
    "error = net.trainf = nl.train.train_rprop(net,X,T,epochs=50,show=12,lr=0.05,goal=0.001)\n",
    "plt.plot(error)\n",
    "plt.xlabel(\"epoch num\")\n",
    "plt.ylabel(\"Train error\")\n",
    "plt.grid()\n",
    "plt.show()"
   ]
  },
  {
   "cell_type": "code",
   "execution_count": 90,
   "id": "prescription-madrid",
   "metadata": {},
   "outputs": [
    {
     "data": {
      "text/plain": [
       "array([[0.50009925],\n",
       "       [0.50000938],\n",
       "       [0.99999866],\n",
       "       [0.00320097]])"
      ]
     },
     "execution_count": 90,
     "metadata": {},
     "output_type": "execute_result"
    }
   ],
   "source": [
    "net.sim(X)"
   ]
  },
  {
   "cell_type": "code",
   "execution_count": null,
   "id": "opened-basement",
   "metadata": {},
   "outputs": [],
   "source": []
  }
 ],
 "metadata": {
  "kernelspec": {
   "display_name": "Python 3",
   "language": "python",
   "name": "python3"
  },
  "language_info": {
   "codemirror_mode": {
    "name": "ipython",
    "version": 3
   },
   "file_extension": ".py",
   "mimetype": "text/x-python",
   "name": "python",
   "nbconvert_exporter": "python",
   "pygments_lexer": "ipython3",
   "version": "3.8.8"
  }
 },
 "nbformat": 4,
 "nbformat_minor": 5
}
