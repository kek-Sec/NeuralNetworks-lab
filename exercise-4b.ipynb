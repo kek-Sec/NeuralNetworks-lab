{
 "cells": [
  {
   "cell_type": "markdown",
   "id": "downtown-celtic",
   "metadata": {},
   "source": [
    "## Use a multilayer feed forward network to classify patterns from iris dataset\n",
    "### Use the following params \n",
    "\n",
    "#### Train test: 80% of the data set\n",
    "#### Test set: 20% of the data set\n",
    "#### Scale data into [0-1]\n",
    "#### Epochs 1000\n",
    "#### Lr 0.005\n",
    "#### Show=100\n"
   ]
  },
  {
   "cell_type": "code",
   "execution_count": 32,
   "id": "light-prediction",
   "metadata": {},
   "outputs": [],
   "source": [
    "import pandas as pd\n",
    "import numpy as np\n",
    "import matplotlib.pyplot as plt\n",
    "from sklearn.model_selection import train_test_split\n",
    "from sklearn.datasets import load_iris\n",
    "import neurolab as nl\n",
    "from sklearn import preprocessing\n"
   ]
  },
  {
   "cell_type": "code",
   "execution_count": 2,
   "id": "surrounded-diploma",
   "metadata": {},
   "outputs": [],
   "source": [
    "iris= load_iris()"
   ]
  },
  {
   "cell_type": "code",
   "execution_count": 3,
   "id": "brown-commercial",
   "metadata": {},
   "outputs": [
    {
     "name": "stdout",
     "output_type": "stream",
     "text": [
      "['sepal length (cm)', 'sepal width (cm)', 'petal length (cm)', 'petal width (cm)']\n"
     ]
    }
   ],
   "source": [
    "# Names of features/columns in iris dataset\n",
    "print(iris.feature_names)"
   ]
  },
  {
   "cell_type": "code",
   "execution_count": 12,
   "id": "seventh-innocent",
   "metadata": {},
   "outputs": [],
   "source": [
    "#convert to dataframe\n",
    "df = pd.DataFrame(data= np.c_[iris['data'], iris['target']],\n",
    "                  columns= iris['feature_names'] + ['species'])"
   ]
  },
  {
   "cell_type": "code",
   "execution_count": 13,
   "id": "greenhouse-engineer",
   "metadata": {},
   "outputs": [
    {
     "data": {
      "text/plain": [
       "species\n",
       "0.0    50\n",
       "1.0    50\n",
       "2.0    50\n",
       "dtype: int64"
      ]
     },
     "execution_count": 13,
     "metadata": {},
     "output_type": "execute_result"
    }
   ],
   "source": [
    "df.groupby('species').size()"
   ]
  },
  {
   "cell_type": "code",
   "execution_count": 28,
   "id": "dominican-struggle",
   "metadata": {},
   "outputs": [],
   "source": [
    "\n",
    "# Store features matrix in X\n",
    "X= iris.data\n",
    "#Store target vector in \n",
    "T= iris.target\n",
    "#split to train and test\n",
    "X_train, X_test, y_train, y_test = train_test_split(X,T,test_size=0.20)"
   ]
  },
  {
   "cell_type": "markdown",
   "id": "manual-disabled",
   "metadata": {},
   "source": [
    "## Preprocessing the data\n",
    "### We will use the MinMaxScaler to transform our data to a range [0,1]"
   ]
  },
  {
   "cell_type": "code",
   "execution_count": 49,
   "id": "sustained-update",
   "metadata": {},
   "outputs": [],
   "source": [
    "min_max_scaler = preprocessing.MinMaxScaler()\n",
    "X_train = min_max_scaler.fit_transform(X_train)\n",
    "X_test= min_max_scaler.fit_transform(X_test)"
   ]
  },
  {
   "cell_type": "markdown",
   "id": "ordinary-biography",
   "metadata": {},
   "source": [
    "## Training"
   ]
  },
  {
   "cell_type": "code",
   "execution_count": 57,
   "id": "received-valentine",
   "metadata": {},
   "outputs": [
    {
     "name": "stdout",
     "output_type": "stream",
     "text": [
      "Epoch: 100; Error: 0.5120790909913686;\n",
      "Epoch: 200; Error: 0.46227677533856565;\n",
      "Epoch: 300; Error: 0.4323255919514391;\n",
      "Epoch: 400; Error: 0.38501789270546105;\n",
      "Epoch: 500; Error: 0.3456952091157627;\n",
      "Epoch: 600; Error: 0.3153609345750447;\n",
      "Epoch: 700; Error: 0.2958836150272596;\n",
      "Epoch: 800; Error: 0.27754230889599607;\n",
      "Epoch: 900; Error: 0.26428523215137856;\n",
      "Epoch: 1000; Error: 0.2535259771730885;\n",
      "The maximum number of train epochs is reached\n"
     ]
    },
    {
     "data": {
      "image/png": "[encoded data removed]",
      "text/plain": [
       "<Figure size 432x288 with 1 Axes>"
      ]
     },
     "metadata": {
      "needs_background": "light"
     },
     "output_type": "display_data"
    }
   ],
   "source": [
    "net = nl.net.newff(nl.tool.minmax(X), [5,1]) #3 because we use 1 bits for each target\n",
    "#change the activation function for the output layer\n",
    "net.layers[-1].transf = nl.trans.LogSig() #output layer\n",
    "net.layers[0].transf = nl.trans.LogSig() #hidden layer\n",
    "net.layers[1].transf = nl.trans.LogSig() #hidden layer\n",
    "# train the network\n",
    "error = net.trainf = nl.train.train_rprop(net,X_train, y_train, epochs=1000, show=100, lr =0.005 ,goal=0.00005)\n",
    "# Plot results\n",
    "plt.plot(error)\n",
    "plt.xlabel('Epoch number')\n",
    "plt.ylabel('Train error')\n",
    "plt.grid()\n",
    "plt.show()"
   ]
  },
  {
   "cell_type": "markdown",
   "id": "young-steal",
   "metadata": {},
   "source": [
    "# Simulate network"
   ]
  },
  {
   "cell_type": "code",
   "execution_count": 58,
   "id": "canadian-count",
   "metadata": {},
   "outputs": [],
   "source": [
    "out = net.sim(X_test)\n",
    "out = np.around(out)"
   ]
  },
  {
   "cell_type": "markdown",
   "id": "familiar-consumer",
   "metadata": {},
   "source": [
    "# Accuracy"
   ]
  },
  {
   "cell_type": "code",
   "execution_count": 59,
   "id": "demonstrated-excuse",
   "metadata": {},
   "outputs": [
    {
     "data": {
      "text/plain": [
       "56.666666666666664"
      ]
     },
     "execution_count": 59,
     "metadata": {},
     "output_type": "execute_result"
    }
   ],
   "source": [
    "correct=(out == y_test).all(axis=1)\n",
    "acc=(np.sum(correct)/len(out))*100\n",
    "acc"
   ]
  },
  {
   "cell_type": "markdown",
   "id": "cordless-feeling",
   "metadata": {},
   "source": [
    "# Testing"
   ]
  },
  {
   "cell_type": "code",
   "execution_count": 60,
   "id": "better-paper",
   "metadata": {},
   "outputs": [
    {
     "data": {
      "image/png": "[encoded data removed]",
      "text/plain": [
       "<Figure size 432x288 with 2 Axes>"
      ]
     },
     "metadata": {
      "needs_background": "light"
     },
     "output_type": "display_data"
    }
   ],
   "source": [
    "np.array_equal(out, y_test)\n",
    "\n",
    "plt.figure(1)\n",
    "plt.subplot(2,1,1)\n",
    "plt.plot(out,'ro')\n",
    "plt.title('out')\n",
    "plt.grid(True)\n",
    "plt.subplot(2,1,2)\n",
    "plt.plot(y_test,'ro')\n",
    "plt.title('y_test')\n",
    "plt.grid(True)\n",
    "plt.tight_layout()\n",
    "plt.show()"
   ]
  },
  {
   "cell_type": "code",
   "execution_count": null,
   "id": "legal-compromise",
   "metadata": {},
   "outputs": [],
   "source": []
  }
 ],
 "metadata": {
  "kernelspec": {
   "display_name": "Python 3",
   "language": "python",
   "name": "python3"
  },
  "language_info": {
   "codemirror_mode": {
    "name": "ipython",
    "version": 3
   },
   "file_extension": ".py",
   "mimetype": "text/x-python",
   "name": "python",
   "nbconvert_exporter": "python",
   "pygments_lexer": "ipython3",
   "version": "3.8.8"
  }
 },
 "nbformat": 4,
 "nbformat_minor": 5
}
